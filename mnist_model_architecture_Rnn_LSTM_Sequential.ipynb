{
 "cells": [
  {
   "cell_type": "code",
   "execution_count": 1,
   "metadata": {
    "collapsed": false
   },
   "outputs": [
    {
     "name": "stderr",
     "output_type": "stream",
     "text": [
      "Using Theano backend.\n"
     ]
    },
    {
     "name": "stdout",
     "output_type": "stream",
     "text": [
      "x_train shape: (60000, 28, 28)\n",
      "60000 train samples\n",
      "10000 test samples\n",
      "Train on 60000 samples, validate on 10000 samples\n",
      "Epoch 1/1\n",
      "60000/60000 [==============================] - 92s - loss: 0.3512 - acc: 0.8906 - val_loss: 0.1175 - val_acc: 0.9631\n",
      "Total Loss on Testing Set :  0.117473450662\n",
      "Accuracy of Testing Set :  0.9631\n"
     ]
    }
   ],
   "source": [
    "# coding: utf-8\n",
    "\n",
    "################################################################################################\n",
    "# If you test as following, that is, only 1 epoch and 128 batch_size\n",
    "# your result will around\n",
    "#     Total Loss on Testing Set :  0.103538942595\n",
    "#     Accuracy of Testing Set :  0.9631\n",
    "# \n",
    "# If you want to incresing the accuracy, you can ...\n",
    "#     1. Increasing the number of epochs.\n",
    "#     2. Decreasing the number of batch_size.\n",
    "# \n",
    "################################################################################################\n",
    "\n",
    "%matplotlib inline\n",
    "from __future__ import print_function\n",
    "from ipywidgets import interact\n",
    "import matplotlib.pyplot as plt\n",
    "import keras\n",
    "from keras.datasets import mnist\n",
    "from keras.models import Sequential\n",
    "from keras.layers import Dense, Activation, InputLayer\n",
    "from keras.layers import LSTM\n",
    "from keras.optimizers import Adam\n",
    "\n",
    "# Training parameters.\n",
    "batch_size = 128\n",
    "num_classes = 10\n",
    "epochs = 1\n",
    "\n",
    "#  rnn size\n",
    "rnn_hidden = 128\n",
    "\n",
    "# Load data\n",
    "(x_train, y_train), (x_test, y_test) = mnist.load_data()\n",
    "\n",
    "# Reshapes data RNN.\n",
    "x_train = x_train.reshape(x_train.shape[0], 28, 28).astype('float32')\n",
    "x_test = x_test.reshape(x_test.shape[0], 28, 28).astype('float32')\n",
    "x_train = x_train/28\n",
    "x_test = x_test/28\n",
    "print('x_train shape:', x_train.shape)\n",
    "print(x_train.shape[0], 'train samples')\n",
    "print(x_test.shape[0], 'test samples')\n",
    "\n",
    "# Converts class vectors to binary class matrices.\n",
    "y_train = keras.utils.to_categorical(y_train, num_classes)\n",
    "y_test = keras.utils.to_categorical(y_test, num_classes)\n",
    "\n",
    "row, col = x_train.shape[1:]\n",
    "\n",
    "model = Sequential()\n",
    "model.add(InputLayer(input_shape=(row, col)))\n",
    "model.add(LSTM(128))\n",
    "model.add(Dense(units=10, activation='softmax'))\n",
    "\n",
    "model.compile(loss='categorical_crossentropy',optimizer='Adam',metrics=['accuracy'])\n",
    "model.fit(x_train, y_train, batch_size=batch_size, epochs=epochs, validation_data=(x_test, y_test))\n",
    "\n",
    "# Evaluation.\n",
    "score = model.evaluate(x_test, y_test, verbose=0)\n",
    "print(\"Total Loss on Testing Set : \", score[0])\n",
    "print(\"Accuracy of Testing Set : \", score[1])\n",
    "\n"
   ]
  },
  {
   "cell_type": "code",
   "execution_count": 2,
   "metadata": {
    "collapsed": false
   },
   "outputs": [
    {
     "name": "stdout",
     "output_type": "stream",
     "text": [
      "_________________________________________________________________\n",
      "Layer (type)                 Output Shape              Param #   \n",
      "=================================================================\n",
      "input_1 (InputLayer)         (None, 28, 28)            0         \n",
      "_________________________________________________________________\n",
      "lstm_1 (LSTM)                (None, 128)               80384     \n",
      "_________________________________________________________________\n",
      "dense_1 (Dense)              (None, 10)                1290      \n",
      "=================================================================\n",
      "Total params: 81,674.0\n",
      "Trainable params: 81,674.0\n",
      "Non-trainable params: 0.0\n",
      "_________________________________________________________________\n"
     ]
    }
   ],
   "source": [
    "model.summary()"
   ]
  },
  {
   "cell_type": "code",
   "execution_count": 3,
   "metadata": {
    "collapsed": false
   },
   "outputs": [
    {
     "name": "stdout",
     "output_type": "stream",
     "text": [
      "神經網路判斷為： 0\n"
     ]
    },
    {
     "data": {
      "image/png": "[encoded data removed]",
      "text/plain": [
       "<matplotlib.figure.Figure at 0x109934940>"
      ]
     },
     "metadata": {},
     "output_type": "display_data"
    }
   ],
   "source": [
    "result = model.predict_classes(x_test)\n",
    "def 辨識(測試編號):\n",
    "    plt.figure(figsize=(1, 1))\n",
    "    plt.imshow(x_test[測試編號], cmap=\"Greys\")\n",
    "    plt.axis('off')\n",
    "    print(\"神經網路判斷為：\", result[測試編號])\n",
    "\n",
    "interact(辨識, 測試編號 = (0, len(x_test) - 1));"
   ]
  },
  {
   "cell_type": "code",
   "execution_count": 4,
   "metadata": {
    "collapsed": false
   },
   "outputs": [],
   "source": [
    "model_json = model.to_json()\n",
    "open('mnist_model_architecture_Rnn_LSTM_Sequential.json', 'w').write(model_json)\n",
    "model.save_weights('mnist_model_architecture_Rnn_LSTM_Sequential.h5')"
   ]
  },
  {
   "cell_type": "code",
   "execution_count": null,
   "metadata": {
    "collapsed": false
   },
   "outputs": [],
   "source": []
  }
 ],
 "metadata": {
  "kernelspec": {
   "display_name": "Python 3",
   "language": "python",
   "name": "python3"
  },
  "language_info": {
   "codemirror_mode": {
    "name": "ipython",
    "version": 3
   },
   "file_extension": ".py",
   "mimetype": "text/x-python",
   "name": "python",
   "nbconvert_exporter": "python",
   "pygments_lexer": "ipython3",
   "version": "3.5.2"
  },
  "widgets": {
   "state": {
    "2f70f574898c4eaab13335bd1466923b": {
     "views": [
      {
       "cell_index": 2
      }
     ]
    }
   },
   "version": "1.2.0"
  }
 },
 "nbformat": 4,
 "nbformat_minor": 0
}
